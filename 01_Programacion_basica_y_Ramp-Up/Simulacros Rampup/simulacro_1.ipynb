{
 "cells": [
  {
   "attachments": {},
   "cell_type": "markdown",
   "metadata": {},
   "source": [
    "# Simulacro Rampup"
   ]
  },
  {
   "cell_type": "code",
   "execution_count": 3,
   "metadata": {},
   "outputs": [],
   "source": [
    "# Escribe tu nombre y apellidos (apellido si solo tienes uno) en las variables:\n",
    "nombre = 'Noelia'\n",
    "apellidos = 'Montiel Sánchez'"
   ]
  },
  {
   "cell_type": "code",
   "execution_count": 4,
   "metadata": {},
   "outputs": [
    {
     "name": "stdout",
     "output_type": "stream",
     "text": [
      "Bienvenido Noelia Montiel Sánchez. Mucha suerte!\n"
     ]
    }
   ],
   "source": [
    "# Solo ejecutar\n",
    "nombre_apellidos = nombre + ' ' + apellidos\n",
    "print(\"Bienvenido\", nombre_apellidos + '. Mucha suerte!')"
   ]
  },
  {
   "cell_type": "markdown",
   "metadata": {},
   "source": [
    "### Ejercicio 1: Calculadoras (3 puntos)\n"
   ]
  },
  {
   "cell_type": "markdown",
   "metadata": {},
   "source": [
    "Construye un programa que:\n",
    "\n",
    "- Salude al usuario por su nombre\n",
    "- Le pregunte si quiere sumar, restar, multiplicar o dividir\n",
    "- Pida que introduzca 2 números de manera sucesiva\n",
    "- Devuelva el resultado de manera formal con un mensaje apropiado \n",
    "\n",
    "**Ayuda**: No se puede dividir por 0"
   ]
  },
  {
   "cell_type": "code",
   "execution_count": 30,
   "metadata": {},
   "outputs": [
    {
     "name": "stdout",
     "output_type": "stream",
     "text": [
      "Hola Noelia\n",
      "El resultado de dividir 125.0 / 9.0 es: 13.89\n"
     ]
    }
   ],
   "source": [
    "def saluda():\n",
    "    nombre = input('¿Cuál es su nombre')\n",
    "    print('Hola', nombre)\n",
    "\n",
    "def pregunta_operacion():\n",
    "    operacion_a_ejecutar = input('¿Qué operación desea ejecutar: sumar, restar, multiplicar o dividir?')\n",
    "    return operacion_a_ejecutar\n",
    "\n",
    "def introduce_num1():\n",
    "    num1 = float(input('Por favor, introduzca un número'))\n",
    "    return num1\n",
    "\n",
    "def introduce_num2():\n",
    "    num2 = float(input('Por favor, introduzca otro número'))\n",
    "    return num2\n",
    "\n",
    "def suma(num1, num2):\n",
    "    return num1 + num2\n",
    "\n",
    "def resta(num1, num2):\n",
    "    return num1 - num2\n",
    "\n",
    "def multiplica(num1, num2):\n",
    "    return num1 * num2\n",
    "\n",
    "def divide(num1, num2):\n",
    "    if num2 != 0:\n",
    "        return round((num1 / num2), 2)\n",
    "    else:\n",
    "        return f'No se puede dividir por 0'\n",
    "\n",
    "def programa():\n",
    "    saluda()\n",
    "    operacion = pregunta_operacion()\n",
    "    if operacion == 'sumar':\n",
    "        num1 = introduce_num1()\n",
    "        num2 = introduce_num2()\n",
    "        resultado = suma(num1, num2)\n",
    "        print('El resultado de sumar', num1, '+', num2, 'es:', resultado)\n",
    "    elif operacion == 'restar':\n",
    "        num1 = introduce_num1()\n",
    "        num2 = introduce_num2()\n",
    "        resultado = resta(num1, num2)\n",
    "        print('El resultado de restar', num1, '-', num2, 'es:', resultado)\n",
    "    elif operacion == 'multiplicar':\n",
    "        num1 = introduce_num1()\n",
    "        num2 = introduce_num2()\n",
    "        resultado = multiplica(num1, num2)\n",
    "        print('El resultado de multiplicar', num1, '*', num2, 'es:', resultado)\n",
    "    elif operacion == 'dividir':\n",
    "        num1 = introduce_num1()\n",
    "        num2 = introduce_num2()\n",
    "        if num2 != 0:\n",
    "            resultado = round((num1 / num2), 2)\n",
    "            print('El resultado de dividir', num1, '/', num2, 'es:', resultado)\n",
    "        else:\n",
    "            return f'No se puede dividir por 0'\n",
    "    else:\n",
    "        return f'Eso no es una operación válida'\n",
    "    \n",
    "programa()\n",
    "    "
   ]
  },
  {
   "cell_type": "markdown",
   "metadata": {},
   "source": [
    "Construye una calculadora que sea como la anterior pero:\n",
    "\n",
    "- Acepte tantos valores de entrada como queramos\n",
    "- Devuelva mensajes con las cuentas que se van haciendo.\n",
    "- Permita salir con una palabra clave (exit, quit, ...)"
   ]
  },
  {
   "cell_type": "code",
   "execution_count": 39,
   "metadata": {},
   "outputs": [
    {
     "name": "stdout",
     "output_type": "stream",
     "text": [
      "Hola Noelia\n",
      "El resultado de sumar 4.0 + 5.0 es: 9.0\n",
      "El resultado de restar 9.0 - 6.0 es: 3.0\n",
      "El resultado de dividir 452.0 / 564.0 es: 0.8\n",
      "El resultado de multiplicar 89.0 * 4.0 es: 356.0\n",
      "Hasta pronto\n"
     ]
    }
   ],
   "source": [
    "def pregunta_operacion():\n",
    "    operacion_a_ejecutar = input('¿Qué operación desea ejecutar: sumar, restar, multiplicar o dividir? Escriba \"exit\" si desea salir')\n",
    "    if operacion_a_ejecutar.lower() == 'Exit':\n",
    "        print('Hasta pronto')\n",
    "    else:\n",
    "        return operacion_a_ejecutar\n",
    "\n",
    "def programa2():\n",
    "    saluda()\n",
    "    while True:\n",
    "        operacion = pregunta_operacion()\n",
    "        if operacion == 'exit':\n",
    "            print('Hasta pronto')\n",
    "            break\n",
    "        if operacion == 'sumar':\n",
    "            num1 = introduce_num1()\n",
    "            num2 = introduce_num2()\n",
    "            resultado = suma(num1, num2)\n",
    "            print('El resultado de sumar', num1, '+', num2, 'es:', resultado)\n",
    "        elif operacion == 'restar':\n",
    "            num1 = introduce_num1()\n",
    "            num2 = introduce_num2()\n",
    "            resultado = resta(num1, num2)\n",
    "            print('El resultado de restar', num1, '-', num2, 'es:', resultado)\n",
    "        elif operacion == 'multiplicar':\n",
    "            num1 = introduce_num1()\n",
    "            num2 = introduce_num2()\n",
    "            resultado = multiplica(num1, num2)\n",
    "            print('El resultado de multiplicar', num1, '*', num2, 'es:', resultado)\n",
    "        elif operacion == 'dividir':\n",
    "            num1 = introduce_num1()\n",
    "            num2 = introduce_num2()\n",
    "            if num2 != 0:\n",
    "                resultado = round((num1 / num2), 2)\n",
    "                print('El resultado de dividir', num1, '/', num2, 'es:', resultado)\n",
    "            else:\n",
    "                return f'No se puede dividir por 0'\n",
    "        else:\n",
    "            return f'Eso no es una operación válida'\n",
    "    \n",
    "programa2()"
   ]
  },
  {
   "cell_type": "markdown",
   "metadata": {},
   "source": [
    "### Ejercicio 2 (4 puntos)\n",
    "\n",
    "Escribe un programa que trabaje con 3 listas:\n",
    "\n",
    "La lista ***grupo_musical*** contiene strings.\n",
    "\n",
    "La lista ***generos*** contiene strings.\n",
    "\n",
    "La lista ***anios*** puede contener un entero o tuplas.\n",
    "\n",
    "Ejemplo de datos:\n",
    "\n",
    ">\"ABBA\"\n",
    ">\n",
    ">\"pop\"\n",
    ">\n",
    ">(1972, 1982)\n",
    "\n",
    "Otro ejemplo:\n",
    "\n",
    ">\"Madonna\"\n",
    ">\n",
    ">\"pop\"\n",
    ">\n",
    ">1983\n",
    "\n",
    "Otro ejemplo:\n",
    "\n",
    ">\"Kölsch\"\n",
    ">\n",
    ">\"electronica\"\n",
    ">\n",
    ">1995\n",
    "\n",
    "Un grupo musical solo puede tener un género musical.\n",
    "Un grupo musical debe tener como mínimo un año de formación, que es un entero.\n",
    "Un grupo musical, si tuviese año de disolución, la información se guardaría en una tupla.\n",
    "\n",
    "Se pide implementar:\n",
    "\n",
    "a. Una función llamada *inserta* que acepte 4 parámetros (grupo, genero, comienzo, fin). El fin por defecto debe ser un objeto nulo. El grupo se inserta en la lista de grupos. El genero se inserta en la lista de géneros. El comienzo o comienzo y fin se inserta en la lista de años. La función no tiene valor retornado.\n",
    "\n",
    "b. Una función *busca_genero* con un parámetro de tipo string (genero) y devuelve una lista con todos los grupos de ese género.\n",
    "\n",
    "c. Una función *busca_grupos* con un parámetro booleano llamado *activos* con un valor por defecto verdadero. Cuando el valor es verdadero, devuelve solo los grupos activos en una lista. Cuando *activos* es falso, devuelve todos los grupos disueltos en una lista.\n",
    "\n",
    "d. Una función *busca_genero_indice* con un parámetro de tipo string (genero) que devuelve una lista con los índices donde se encuentra ese género.\n",
    "\n",
    "e. Una función *filtra_listas_genero* con un parámetro de tipo string (genero) que devuelve una tupla con las 3 listas filtradas y ***llame*** a busca_genero_indice\n",
    "\n",
    "f. Una función *anios_activos* que no tenga parámetros de entrada ni valor retornado que imprima línea a línea la información: grupo musical ---> años activos. Es decir: \n",
    "\n",
    ">ABBA ---> 10 años activos\n",
    ">\n",
    ">Madonna --> 40 años activos\n",
    ">\n",
    ">Kölsch --> 25 años activos\n",
    "\n",
    "\n",
    "Nota: si no te sale un apartado después de un tiempo prudencial, ¡pasa al siguiente!"
   ]
  },
  {
   "cell_type": "code",
   "execution_count": 58,
   "metadata": {},
   "outputs": [
    {
     "name": "stdout",
     "output_type": "stream",
     "text": [
      "['ABBA', 'Madonna', 'Kölsch']\n",
      "['pop', 'pop', 'electrónica']\n",
      "[(1972, 1982), (1983, None), (1995, None)]\n"
     ]
    }
   ],
   "source": [
    "grupos = []\n",
    "generos = []\n",
    "anios = []\n",
    "\n",
    "def inserta(grupo, genero, comienzo, fin = None):\n",
    "    grupos.append(grupo)\n",
    "    generos.append(genero)\n",
    "    anios.append((comienzo, fin))\n",
    "\n",
    "inserta('ABBA', 'pop', 1972, 1982)\n",
    "inserta('Madonna', 'pop', 1983)\n",
    "inserta('Kölsch', 'electrónica', 1995)\n",
    "\n",
    "print(grupos)\n",
    "print(generos)\n",
    "print(anios)"
   ]
  },
  {
   "cell_type": "code",
   "execution_count": 62,
   "metadata": {},
   "outputs": [
    {
     "name": "stdout",
     "output_type": "stream",
     "text": [
      "['ABBA', 'Madonna']\n",
      "['Kölsch']\n"
     ]
    }
   ],
   "source": [
    "def busca_genero(genero):\n",
    "    grupos_del_genero = []\n",
    "    for i in range(len(generos)):\n",
    "        if generos[i] == genero:\n",
    "            grupos_del_genero.append(grupos[i])\n",
    "    return grupos_del_genero\n",
    "\n",
    "print(busca_genero('pop'))\n",
    "print(busca_genero('electrónica'))"
   ]
  },
  {
   "cell_type": "code",
   "execution_count": 80,
   "metadata": {},
   "outputs": [
    {
     "name": "stdout",
     "output_type": "stream",
     "text": [
      "['Madonna', 'Kölsch']\n",
      "['ABBA']\n"
     ]
    }
   ],
   "source": [
    "def busca_grupos(activos = True):\n",
    "    grupos_activos_disueltos = []\n",
    "    for i in range(len(grupos)):\n",
    "        if activos and anios[i][1] is None: \n",
    "            grupos_activos_disueltos.append(grupos[i])\n",
    "        elif not activos and anios[i][1] is not None:\n",
    "            grupos_activos_disueltos.append(grupos[i])\n",
    "    return grupos_activos_disueltos\n",
    "\n",
    "print(busca_grupos())\n",
    "print(busca_grupos(False))"
   ]
  },
  {
   "cell_type": "code",
   "execution_count": 83,
   "metadata": {},
   "outputs": [
    {
     "name": "stdout",
     "output_type": "stream",
     "text": [
      "[0, 1]\n",
      "[2]\n"
     ]
    }
   ],
   "source": [
    "def busca_genero_indice(genero):\n",
    "    indices = []\n",
    "    for indice in range(len(generos)):\n",
    "        if generos[indice] == genero:\n",
    "            indices.append(indice)\n",
    "    return indices\n",
    "\n",
    "print(busca_genero_indice('pop'))\n",
    "print(busca_genero_indice('electrónica'))"
   ]
  },
  {
   "cell_type": "code",
   "execution_count": 88,
   "metadata": {},
   "outputs": [
    {
     "name": "stdout",
     "output_type": "stream",
     "text": [
      "(['ABBA', 'Madonna'], ['pop', 'pop'], [(1972, 1982), (1983, None)])\n",
      "(['Kölsch'], ['electrónica'], [(1995, None)])\n"
     ]
    }
   ],
   "source": [
    "def filtra_listas_genero(genero):\n",
    "    indices = busca_genero_indice(genero)\n",
    "    grupos_fil = []\n",
    "    generos_fil = []\n",
    "    anios_fil = []\n",
    "    for indice in indices:\n",
    "        grupos_fil.append(grupos[indice])\n",
    "        generos_fil.append(generos[indice])\n",
    "        anios_fil.append(anios[indice])\n",
    "    return grupos_fil, generos_fil, anios_fil\n",
    "\n",
    "print(filtra_listas_genero('pop'))\n",
    "print(filtra_listas_genero('electrónica'))"
   ]
  },
  {
   "cell_type": "code",
   "execution_count": 92,
   "metadata": {},
   "outputs": [
    {
     "name": "stdout",
     "output_type": "stream",
     "text": [
      "ABBA ----> 10 años activos\n",
      "Madonna ----> 41 años activos\n",
      "Kölsch ----> 29 años activos\n"
     ]
    }
   ],
   "source": [
    "def anios_activos():\n",
    "    for grupo in range(len(grupos)):\n",
    "        comienzo, fin = anios[grupo]\n",
    "        if fin == None:\n",
    "            fin = 2024 # Establecemos como fecha de fin este mismo momento\n",
    "        anios_activos = fin - comienzo\n",
    "        print(grupos[grupo], '---->', anios_activos, 'años activos')\n",
    "anios_activos()"
   ]
  },
  {
   "attachments": {},
   "cell_type": "markdown",
   "metadata": {},
   "source": [
    "### Ejercicio 3 (3 puntos)\n",
    "\n",
    "#### Crear un programa que calcule la cuota de una hipoteca\n",
    "\n",
    "Las cuotas hipotecarias se calculan utilizando la fórmula del interés francés. \n",
    "\n",
    "La fórmula del interés francés es la siguiente:\n",
    "\\begin{align*}\n",
    "C=V \\frac{(1+i)^n i}{(1+i)^n -1}\n",
    "\\end{align*}\n",
    "\n",
    "\n",
    "    C = cuota a pagar (mensual)\n",
    "    V = volumen del préstamo hipotecario\n",
    "    i = tipo de interés del período (mensual)\n",
    "    n = número de cuotas (mensuales)\n",
    "\n"
   ]
  },
  {
   "attachments": {},
   "cell_type": "markdown",
   "metadata": {},
   "source": [
    "1. Crea un programa que solicite al usuario los datos de su hipoteca mediante input() los datos (volumen, interés **anual**, y plazo en **años**) y le devuelva la cuota **mensual** a pagar. No es necesario encapsularlo en funciones. (0.4)"
   ]
  },
  {
   "cell_type": "code",
   "execution_count": 110,
   "metadata": {},
   "outputs": [
    {
     "data": {
      "text/plain": [
       "1878.8756805424894"
      ]
     },
     "execution_count": 110,
     "metadata": {},
     "output_type": "execute_result"
    }
   ],
   "source": [
    "def calculo_cuota_mensual():\n",
    "    volumen = float(input('Por favor, escriba aquí el volumen de su préstamo hipotecario'))\n",
    "    interes_anual = float(input('Por favor, esciba aquí el interés anual'))\n",
    "    interes_mensual = interes_anual/12/100\n",
    "    plazo = float(input('Por favor, escriba aquí el plazo en años que tiene para pagar su hipoteca'))\n",
    "    num_cuotas = plazo * 12\n",
    "    cuota_mensual = cuota_mensual = volumen * ((((1 + interes_mensual) ** num_cuotas) * interes_mensual)/(((1 + interes_mensual) ** num_cuotas) - 1))\n",
    "    return cuota_mensual\n",
    "calculo_cuota_mensual()"
   ]
  },
  {
   "attachments": {},
   "cell_type": "markdown",
   "metadata": {},
   "source": [
    "2. Crea una función `calcular_hip` que realiza el cálculo y cuyos argumentos de entrada sean `volumen`, `interes_anual` y `años`, devolviendo la couta mensual(float). El argumento de `años` deberá de tener un valor por defecto de 30. Documenta la función con el estilo de Google.  (0.4)"
   ]
  },
  {
   "cell_type": "code",
   "execution_count": 111,
   "metadata": {},
   "outputs": [],
   "source": [
    "def calcular_hip(volumen, interes_anual, años = 30):\n",
    "    interes_mensual = interes_anual / 12 / 100\n",
    "    num_cuotas = años * 12\n",
    "    cuota_mensual = volumen * ((((1 + interes_mensual) ** num_cuotas) * interes_mensual)/(((1 + interes_mensual) ** num_cuotas) - 1))\n",
    "    return cuota_mensual"
   ]
  },
  {
   "attachments": {},
   "cell_type": "markdown",
   "metadata": {},
   "source": [
    "3. Calcula la cuota y guárdala en la variable `res_cuota` si la cantidad de la hipoteca son 350000 euros, el interés anual es del 5% y la quiere pagar en 20 años a partir de la función `calcular_hip`. (0.4)\n",
    "\n"
   ]
  },
  {
   "cell_type": "code",
   "execution_count": 112,
   "metadata": {},
   "outputs": [
    {
     "data": {
      "text/plain": [
       "2309.8450872583057"
      ]
     },
     "execution_count": 112,
     "metadata": {},
     "output_type": "execute_result"
    }
   ],
   "source": [
    "res_cuota = calcular_hip(350000, 5, 20)\n",
    "res_cuota"
   ]
  },
  {
   "attachments": {},
   "cell_type": "markdown",
   "metadata": {},
   "source": [
    "4. Crea una función `gasto_vivienda`, con dos argumentos de entrada `ingreso` y `lista_hip`. Esta lista tendrá los 3 valores de los argumentos de entrada de `calcular_hip`, llamando a esta función desde dentro de `gasto_vivienda`. Tiene que devolver el valor del porcentaje de gasto en la hipoteca respecto a los ingresos. (Entre 0 y 1, es decir 0.5 si es del 50%) Documenta la función. (0.4)"
   ]
  },
  {
   "cell_type": "code",
   "execution_count": 127,
   "metadata": {},
   "outputs": [
    {
     "data": {
      "text/plain": [
       "0.7699483624194352"
      ]
     },
     "execution_count": 127,
     "metadata": {},
     "output_type": "execute_result"
    }
   ],
   "source": [
    "def gasto_vivienda(ingreso, lista_hip):\n",
    "    volumen, interes_anual, años = lista_hip\n",
    "    cuota_mensual = calcular_hip(volumen, interes_anual, años)\n",
    "    porcentaje_gasto = cuota_mensual / ingreso\n",
    "    return porcentaje_gasto\n",
    "\n",
    "gasto_vivienda(3000, [350000, 5, 20])"
   ]
  },
  {
   "attachments": {},
   "cell_type": "markdown",
   "metadata": {},
   "source": [
    "5. Calcula el porcentaje de gasto en la hipoteca si el ingreso es de 1700 euros y guárdalo en la variable `res_porcentaje` a partir de la función `gasto_vivienda`. (0.4)\n"
   ]
  },
  {
   "cell_type": "code",
   "execution_count": 128,
   "metadata": {},
   "outputs": [
    {
     "data": {
      "text/plain": [
       "1.3587324042695916"
      ]
     },
     "execution_count": 128,
     "metadata": {},
     "output_type": "execute_result"
    }
   ],
   "source": [
    "res_porcentaje = gasto_vivienda(1700, [350000, 5, 20])\n",
    "res_porcentaje"
   ]
  }
 ],
 "metadata": {
  "kernelspec": {
   "display_name": "Python 3 (ipykernel)",
   "language": "python",
   "name": "python3"
  },
  "language_info": {
   "codemirror_mode": {
    "name": "ipython",
    "version": 3
   },
   "file_extension": ".py",
   "mimetype": "text/x-python",
   "name": "python",
   "nbconvert_exporter": "python",
   "pygments_lexer": "ipython3",
   "version": "3.10.11"
  },
  "vscode": {
   "interpreter": {
    "hash": "90139cb9a825bf3d63f6f6704e828dbd1ff7edbd4d0c6e906a71235d6efc74af"
   }
  }
 },
 "nbformat": 4,
 "nbformat_minor": 4
}
