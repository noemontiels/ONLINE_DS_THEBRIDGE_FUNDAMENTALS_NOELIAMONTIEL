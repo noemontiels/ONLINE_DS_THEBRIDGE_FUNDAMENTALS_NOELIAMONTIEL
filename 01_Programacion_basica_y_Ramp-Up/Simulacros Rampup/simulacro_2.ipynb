{
 "cells": [
  {
   "attachments": {},
   "cell_type": "markdown",
   "metadata": {},
   "source": [
    "# Simulacro Rampup"
   ]
  },
  {
   "cell_type": "code",
   "execution_count": 1,
   "metadata": {},
   "outputs": [],
   "source": [
    "# Escribe tu nombre y apellidos (apellido si solo tienes uno) en las variables:\n",
    "nombre = \"Noelia\"\n",
    "apellidos = \"Montiel Sánchez\""
   ]
  },
  {
   "cell_type": "code",
   "execution_count": 2,
   "metadata": {},
   "outputs": [
    {
     "name": "stdout",
     "output_type": "stream",
     "text": [
      "Bienvenido Noelia Montiel Sánchez. Mucha suerte!\n"
     ]
    }
   ],
   "source": [
    "# Solo ejecutar\n",
    "nombre_apellidos = nombre + ' ' + apellidos\n",
    "print(\"Bienvenido\", nombre_apellidos + '. Mucha suerte!')"
   ]
  },
  {
   "cell_type": "markdown",
   "metadata": {},
   "source": [
    "### Ejercicio 1: Calculadoras (3 puntos)\n"
   ]
  },
  {
   "cell_type": "markdown",
   "metadata": {},
   "source": [
    "Construye un programa que:\n",
    "\n",
    "- Salude al usuario por su nombre\n",
    "- Le pregunte si quiere sumar, restar, multiplicar o dividir\n",
    "- Pida que introduzca 2 números de manera sucesiva\n",
    "- Devuelva el resultado de manera formal con un mensaje apropiado \n",
    "\n",
    "**Ayuda**: No se puede dividir por 0"
   ]
  },
  {
   "cell_type": "code",
   "execution_count": 3,
   "metadata": {},
   "outputs": [
    {
     "name": "stdout",
     "output_type": "stream",
     "text": [
      "Hola Noelia\n",
      "El resultado de sumar 45.0 + 85.0 es: 130.0\n"
     ]
    }
   ],
   "source": [
    "def saluda():\n",
    "    nombre = input('¿Cuál es su nombre')\n",
    "    print('Hola', nombre)\n",
    "\n",
    "def pregunta_operacion():\n",
    "    operacion_a_ejecutar = input('¿Qué operación desea ejecutar: sumar, restar, multiplicar o dividir?')\n",
    "    return operacion_a_ejecutar\n",
    "\n",
    "def introduce_num1():\n",
    "    num1 = float(input('Por favor, introduzca un número'))\n",
    "    return num1\n",
    "\n",
    "def introduce_num2():\n",
    "    num2 = float(input('Por favor, introduzca otro número'))\n",
    "    return num2\n",
    "\n",
    "def suma(num1, num2):\n",
    "    return num1 + num2\n",
    "\n",
    "def resta(num1, num2):\n",
    "    return num1 - num2\n",
    "\n",
    "def multiplica(num1, num2):\n",
    "    return num1 * num2\n",
    "\n",
    "def divide(num1, num2):\n",
    "    if num2 != 0:\n",
    "        return round((num1 / num2), 2)\n",
    "    else:\n",
    "        return f'No se puede dividir por 0'\n",
    "\n",
    "def programa():\n",
    "    saluda()\n",
    "    operacion = pregunta_operacion()\n",
    "    if operacion == 'sumar':\n",
    "        num1 = introduce_num1()\n",
    "        num2 = introduce_num2()\n",
    "        resultado = suma(num1, num2)\n",
    "        print('El resultado de sumar', num1, '+', num2, 'es:', resultado)\n",
    "    elif operacion == 'restar':\n",
    "        num1 = introduce_num1()\n",
    "        num2 = introduce_num2()\n",
    "        resultado = resta(num1, num2)\n",
    "        print('El resultado de restar', num1, '-', num2, 'es:', resultado)\n",
    "    elif operacion == 'multiplicar':\n",
    "        num1 = introduce_num1()\n",
    "        num2 = introduce_num2()\n",
    "        resultado = multiplica(num1, num2)\n",
    "        print('El resultado de multiplicar', num1, '*', num2, 'es:', resultado)\n",
    "    elif operacion == 'dividir':\n",
    "        num1 = introduce_num1()\n",
    "        num2 = introduce_num2()\n",
    "        if num2 != 0:\n",
    "            resultado = round((num1 / num2), 2)\n",
    "            print('El resultado de dividir', num1, '/', num2, 'es:', resultado)\n",
    "        else:\n",
    "            return f'No se puede dividir por 0'\n",
    "    else:\n",
    "        return f'Eso no es una operación válida'\n",
    "    \n",
    "programa()\n"
   ]
  },
  {
   "cell_type": "markdown",
   "metadata": {},
   "source": [
    "Construye una calculadora que sea como la anterior pero:\n",
    "\n",
    "- Acepte tantos valores de entrada como queramos\n",
    "- Devuelva mensajes con las cuentas que se van haciendo.\n",
    "- Permita salir con una palabra clave (exit, quit, ...)"
   ]
  },
  {
   "cell_type": "code",
   "execution_count": 4,
   "metadata": {},
   "outputs": [
    {
     "name": "stdout",
     "output_type": "stream",
     "text": [
      "Hola Noelia\n",
      "El resultado de sumar 45.0 + 85.0 es: 130.0\n",
      "El resultado de restar 95.0 - 75.0 es: 20.0\n",
      "El resultado de multiplicar 56.0 * 78.0 es: 4368.0\n",
      "El resultado de dividir 458.0 / 42.0 es: 10.9\n",
      "Hasta pronto\n"
     ]
    }
   ],
   "source": [
    "\n",
    "def pregunta_operacion():\n",
    "    operacion_a_ejecutar = input('¿Qué operación desea ejecutar: sumar, restar, multiplicar o dividir? Escriba \"exit\" si desea salir')\n",
    "    if operacion_a_ejecutar.lower() == 'Exit':\n",
    "        print('Hasta pronto')\n",
    "    else:\n",
    "        return operacion_a_ejecutar\n",
    "\n",
    "def programa2():\n",
    "    saluda()\n",
    "    while True:\n",
    "        operacion = pregunta_operacion()\n",
    "        if operacion == 'exit':\n",
    "            print('Hasta pronto')\n",
    "            break\n",
    "        if operacion == 'sumar':\n",
    "            num1 = introduce_num1()\n",
    "            num2 = introduce_num2()\n",
    "            resultado = suma(num1, num2)\n",
    "            print('El resultado de sumar', num1, '+', num2, 'es:', resultado)\n",
    "        elif operacion == 'restar':\n",
    "            num1 = introduce_num1()\n",
    "            num2 = introduce_num2()\n",
    "            resultado = resta(num1, num2)\n",
    "            print('El resultado de restar', num1, '-', num2, 'es:', resultado)\n",
    "        elif operacion == 'multiplicar':\n",
    "            num1 = introduce_num1()\n",
    "            num2 = introduce_num2()\n",
    "            resultado = multiplica(num1, num2)\n",
    "            print('El resultado de multiplicar', num1, '*', num2, 'es:', resultado)\n",
    "        elif operacion == 'dividir':\n",
    "            num1 = introduce_num1()\n",
    "            num2 = introduce_num2()\n",
    "            if num2 != 0:\n",
    "                resultado = round((num1 / num2), 2)\n",
    "                print('El resultado de dividir', num1, '/', num2, 'es:', resultado)\n",
    "            else:\n",
    "                return f'No se puede dividir por 0'\n",
    "        else:\n",
    "            return f'Eso no es una operación válida'\n",
    "    \n",
    "programa2()"
   ]
  },
  {
   "attachments": {},
   "cell_type": "markdown",
   "metadata": {},
   "source": [
    "### Ejercicio 2 (3 puntos)\n",
    "\n",
    "#### Crear un programa que calcule la cuota de una hipoteca\n",
    "\n",
    "Las cuotas hipotecarias se calculan utilizando la fórmula del interés francés. \n",
    "\n",
    "La fórmula del interés francés es la siguiente:\n",
    "\\begin{align*}\n",
    "C=V \\frac{(1+i)^n i}{(1+i)^n -1}\n",
    "\\end{align*}\n",
    "\n",
    "\n",
    "    C = cuota a pagar (mensual)\n",
    "    V = volumen del préstamo hipotecario\n",
    "    i = tipo de interés del período (mensual)\n",
    "    n = número de cuotas (mensuales)\n",
    "\n"
   ]
  },
  {
   "attachments": {},
   "cell_type": "markdown",
   "metadata": {},
   "source": [
    "1. Crea un programa que solicite al usuario los datos de su hipoteca mediante input() los datos (volumen, interés **anual**, y plazo en **años**) y le devuelva la cuota **mensual** a pagar. No es necesario encapsularlo en funciones. (0.4)"
   ]
  },
  {
   "cell_type": "code",
   "execution_count": 5,
   "metadata": {},
   "outputs": [
    {
     "data": {
      "text/plain": [
       "1878.8756805424894"
      ]
     },
     "execution_count": 5,
     "metadata": {},
     "output_type": "execute_result"
    }
   ],
   "source": [
    "def calculo_cuota_mensual():\n",
    "    volumen = float(input('Por favor, escriba aquí el volumen de su préstamo hipotecario'))\n",
    "    interes_anual = float(input('Por favor, esciba aquí el interés anual'))\n",
    "    interes_mensual = interes_anual/12/100\n",
    "    plazo = float(input('Por favor, escriba aquí el plazo en años que tiene para pagar su hipoteca'))\n",
    "    num_cuotas = plazo * 12\n",
    "    cuota_mensual = cuota_mensual = volumen * ((((1 + interes_mensual) ** num_cuotas) * interes_mensual)/(((1 + interes_mensual) ** num_cuotas) - 1))\n",
    "    return cuota_mensual\n",
    "calculo_cuota_mensual()"
   ]
  },
  {
   "attachments": {},
   "cell_type": "markdown",
   "metadata": {},
   "source": [
    "2. Crea una función `calcular_hip` que realiza el cálculo y cuyos argumentos de entrada sean `volumen`, `interes_anual` y `años`, devolviendo la couta mensual(float). El argumento de `años` deberá de tener un valor por defecto de 30. Documenta la función con el estilo de Google.  (0.4)"
   ]
  },
  {
   "cell_type": "code",
   "execution_count": 6,
   "metadata": {},
   "outputs": [],
   "source": [
    "def calcular_hip(volumen, interes_anual, años = 30):\n",
    "    interes_mensual = interes_anual / 12 / 100\n",
    "    num_cuotas = años * 12\n",
    "    cuota_mensual = volumen * ((((1 + interes_mensual) ** num_cuotas) * interes_mensual)/(((1 + interes_mensual) ** num_cuotas) - 1))\n",
    "    return cuota_mensual"
   ]
  },
  {
   "attachments": {},
   "cell_type": "markdown",
   "metadata": {},
   "source": [
    "3. Calcula la cuota y guárdala en la variable `res_cuota` si la cantidad de la hipoteca son 350000 euros, el interés anual es del 5% y la quiere pagar en 20 años a partir de la función `calcular_hip`. (0.4)\n",
    "\n"
   ]
  },
  {
   "cell_type": "code",
   "execution_count": 7,
   "metadata": {},
   "outputs": [
    {
     "data": {
      "text/plain": [
       "2309.8450872583057"
      ]
     },
     "execution_count": 7,
     "metadata": {},
     "output_type": "execute_result"
    }
   ],
   "source": [
    "res_cuota = calcular_hip(350000, 5, 20)\n",
    "res_cuota"
   ]
  },
  {
   "attachments": {},
   "cell_type": "markdown",
   "metadata": {},
   "source": [
    "4. Crea una función `gasto_vivienda`, con dos argumentos de entrada `ingreso` y `lista_hip`. Esta lista tendrá los 3 valores de los argumentos de entrada de `calcular_hip`, llamando a esta función desde dentro de `gasto_vivienda`. Tiene que devolver el valor del porcentaje de gasto en la hipoteca respecto a los ingresos. (Entre 0 y 1, es decir 0.5 si es del 50%) Documenta la función. (0.4)"
   ]
  },
  {
   "cell_type": "code",
   "execution_count": 8,
   "metadata": {},
   "outputs": [
    {
     "data": {
      "text/plain": [
       "0.7699483624194352"
      ]
     },
     "execution_count": 8,
     "metadata": {},
     "output_type": "execute_result"
    }
   ],
   "source": [
    "def gasto_vivienda(ingreso, lista_hip):\n",
    "    volumen, interes_anual, años = lista_hip\n",
    "    cuota_mensual = calcular_hip(volumen, interes_anual, años)\n",
    "    porcentaje_gasto = cuota_mensual / ingreso\n",
    "    return porcentaje_gasto\n",
    "\n",
    "gasto_vivienda(3000, [350000, 5, 20])"
   ]
  },
  {
   "attachments": {},
   "cell_type": "markdown",
   "metadata": {},
   "source": [
    "5. Calcula el porcentaje de gasto en la hipoteca si el ingreso es de 1700 euros y guárdalo en la variable `res_porcentaje` a partir de la función `gasto_vivienda`. (0.4)\n"
   ]
  },
  {
   "cell_type": "code",
   "execution_count": 9,
   "metadata": {},
   "outputs": [
    {
     "data": {
      "text/plain": [
       "1.3587324042695916"
      ]
     },
     "execution_count": 9,
     "metadata": {},
     "output_type": "execute_result"
    }
   ],
   "source": [
    "res_porcentaje = gasto_vivienda(1700, [350000, 5, 20])\n",
    "res_porcentaje"
   ]
  },
  {
   "cell_type": "markdown",
   "metadata": {},
   "source": [
    "#### Ejercicio 3 (3 puntos)\n",
    "\n",
    "Crea un programa que simule un carrusel infantil.\n",
    "\n",
    "\n",
    "El carrusel infantil tiene 3 posibles cochecitos: barco - bomberos - avioneta (una variable global de tipo lista, fuera de tu función).\n",
    "\n",
    "Debes escribir una **FUNCIÓN** llamada carrusel que tenga dos parámetros de entrada: el cochecito que eliges (puede valer el string barco, bomberos o avioneta) y un segundo parámetro llamado vueltas que es un entero.\n",
    "\n",
    "Tu función carrusel NO debe retornar nada, pero debe llamar internamente a coloca(cochecito), ya te lo doy programado. Si sientas al niño en \"avioneta\" y pones 3 vueltas, la función debería imprimir:\n",
    "\n",
    "\"vuelta 1: avioneta - barco - bomberos\"\n",
    "\n",
    "\"vuelta 2: bomberos - avioneta - barco\"\n",
    "\n",
    "\"vuelta 3: barco - bomberos - avioneta\"\n",
    "\n",
    "Se valorará positivamente que haya **UN BUCLE WHILE**.\n",
    "Si no te acaba de funcionar llamando a coloca(cochecito) tras un tiempo prudencial, escribe tu código sin usarlo."
   ]
  },
  {
   "cell_type": "code",
   "execution_count": null,
   "metadata": {},
   "outputs": [],
   "source": [
    "lista_carrusel = [\"barco\", \"bomberos\", \"avioneta\"]\n",
    "\n",
    "def coloca(cochecito):  \n",
    "    if cochecito == \"barco\": \n",
    "        return lista_carrusel \n",
    "    elif cochecito == \"bomberos\" or cochecito == \"avioneta\": \n",
    "        elemento = lista_carrusel.pop(0)\n",
    "        lista_carrusel.append(elemento) \n",
    "    if cochecito == \"avioneta\":\n",
    "        elemento = lista_carrusel.pop(0) \n",
    "        lista_carrusel.append(elemento) \n",
    "    return lista_carrusel"
   ]
  },
  {
   "cell_type": "code",
   "execution_count": null,
   "metadata": {},
   "outputs": [],
   "source": [
    "def carrusel(cochecito, vueltas):\n",
    "    vueltas_dadas = 1\n",
    "    while vueltas >= vueltas_dadas:\n",
    "        print('Vuelta:', vueltas_dadas, (coloca(cochecito)))\n",
    "        vueltas_dadas += 1\n",
    "\n",
    "carrusel(\"avioneta\", 3)"
   ]
  },
  {
   "cell_type": "markdown",
   "metadata": {},
   "source": [
    "**EJERCICIO BONUS:**\n",
    "1. Crea una función que, dado un input `x`, devuelva \n",
    "$$\n",
    "y = 4x + 2\n",
    "$$\n",
    "\n",
    "2. Crea una función que, dado un input `x`, devuelva \n",
    "$$\n",
    "y = 3x^2 + 4x + 2\n",
    "$$\n",
    "\n",
    "3. Dado el polinomio\n",
    "\n",
    "$$\n",
    "a_nx^n + a_{n-1}x^{n-1} + ... + a_2x^2 + a_1x + a_0\n",
    "$$\n",
    "\n",
    "Crea una función que reciba como input `x` y una lista de `[a_0, ..., a_n]` y devuelva el valor del polinomio en `x`.\n",
    "\n",
    "**Nota**: En caso de no poder con una función, hacerlo como se pueda.\n",
    "\n",
    "**Pista**: El primero cumple `n = 1` y los parámetros son `[2, 4]`. El segundo: `n = 2` y los parámetros `[2, 4, 3]`. Con esta información, intenta generalizar."
   ]
  },
  {
   "cell_type": "code",
   "execution_count": 11,
   "metadata": {},
   "outputs": [
    {
     "data": {
      "text/plain": [
       "22"
      ]
     },
     "execution_count": 11,
     "metadata": {},
     "output_type": "execute_result"
    }
   ],
   "source": [
    "def funcion(x):\n",
    "    y = 4*x + 2\n",
    "    return y\n",
    "\n",
    "def funcion2(x):\n",
    "    y = 3*(x**2) + 4*x + 2\n",
    "    return y\n",
    "\n",
    "def funcion3(x, lista):\n",
    "    eleva = len(lista) - 1\n",
    "    resultado = 0\n",
    "    for i in range(eleva + 1):\n",
    "        resultado += lista[i] * (x ** (eleva - i))\n",
    "    return resultado\n",
    "\n",
    "funcion3(2, [2, 4, 6])\n"
   ]
  }
 ],
 "metadata": {
  "kernelspec": {
   "display_name": "Python 3 (ipykernel)",
   "language": "python",
   "name": "python3"
  },
  "language_info": {
   "codemirror_mode": {
    "name": "ipython",
    "version": 3
   },
   "file_extension": ".py",
   "mimetype": "text/x-python",
   "name": "python",
   "nbconvert_exporter": "python",
   "pygments_lexer": "ipython3",
   "version": "3.10.11"
  },
  "vscode": {
   "interpreter": {
    "hash": "90139cb9a825bf3d63f6f6704e828dbd1ff7edbd4d0c6e906a71235d6efc74af"
   }
  }
 },
 "nbformat": 4,
 "nbformat_minor": 4
}
