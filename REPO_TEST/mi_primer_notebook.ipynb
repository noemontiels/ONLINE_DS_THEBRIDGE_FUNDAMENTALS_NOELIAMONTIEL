{
 "cells": [
  {
   "cell_type": "code",
   "execution_count": null,
   "id": "79693dfe-5844-4236-a9a9-462ffb262ad8",
   "metadata": {},
   "outputs": [],
   "source": []
  }
 ],
 "metadata": {
  "kernelspec": {
   "display_name": "",
   "name": ""
  },
  "language_info": {
   "name": ""
  }
 },
 "nbformat": 4,
 "nbformat_minor": 5
}
